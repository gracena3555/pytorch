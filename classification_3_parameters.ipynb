{
 "cells": [
  {
   "cell_type": "markdown",
   "id": "2fe99b83",
   "metadata": {},
   "source": [
    "Pytorch_CNN_classification_3.ipynb \n",
    "- out.shape 확인용\n",
    "- 파라미터 확인용"
   ]
  },
  {
   "cell_type": "code",
   "execution_count": 1,
   "id": "800658fd",
   "metadata": {},
   "outputs": [],
   "source": [
    "import torch\n",
    "import torch.nn as nn"
   ]
  },
  {
   "cell_type": "code",
   "execution_count": 2,
   "id": "01fb31b8",
   "metadata": {},
   "outputs": [
    {
     "name": "stdout",
     "output_type": "stream",
     "text": [
      "텐서의 크기: torch.Size([1, 1, 28, 28])\n"
     ]
    }
   ],
   "source": [
    "inputs = torch.Tensor(1,1,28,28)\n",
    "print(\"텐서의 크기: {}\".format(inputs.shape))"
   ]
  },
  {
   "cell_type": "code",
   "execution_count": 3,
   "id": "6ba1d035",
   "metadata": {},
   "outputs": [
    {
     "name": "stdout",
     "output_type": "stream",
     "text": [
      "Conv2d(1, 32, kernel_size=(3, 3), stride=(1, 1), padding=(1, 1))\n"
     ]
    }
   ],
   "source": [
    "conv1 = nn.Conv2d(1, 32, kernel_size=3, stride=1, padding=1) \n",
    "print(conv1)"
   ]
  },
  {
   "cell_type": "code",
   "execution_count": 4,
   "id": "51cb05e3",
   "metadata": {},
   "outputs": [
    {
     "name": "stdout",
     "output_type": "stream",
     "text": [
      "Conv2d(32, 64, kernel_size=(3, 3), stride=(1, 1), padding=(1, 1))\n"
     ]
    }
   ],
   "source": [
    "conv2 = nn.Conv2d(32, 64, kernel_size=3, stride=1, padding=1)\n",
    "print(conv2)"
   ]
  },
  {
   "cell_type": "code",
   "execution_count": 5,
   "id": "6a47759f",
   "metadata": {},
   "outputs": [
    {
     "name": "stdout",
     "output_type": "stream",
     "text": [
      "Conv2d(64, 128, kernel_size=(3, 3), stride=(1, 1), padding=(1, 1))\n"
     ]
    }
   ],
   "source": [
    "conv3 = nn.Conv2d(64, 128, kernel_size=3, stride=1, padding=1)\n",
    "print(conv3)"
   ]
  },
  {
   "cell_type": "code",
   "execution_count": 6,
   "id": "3043d894",
   "metadata": {},
   "outputs": [
    {
     "name": "stdout",
     "output_type": "stream",
     "text": [
      "Conv2d(128, 256, kernel_size=(3, 3), stride=(1, 1), padding=(1, 1))\n"
     ]
    }
   ],
   "source": [
    "conv4 = nn.Conv2d(128, 256, kernel_size=3, stride=1, padding=1)\n",
    "print(conv4)"
   ]
  },
  {
   "cell_type": "code",
   "execution_count": 7,
   "id": "60d7765e",
   "metadata": {},
   "outputs": [
    {
     "name": "stdout",
     "output_type": "stream",
     "text": [
      "Conv2d(256, 512, kernel_size=(3, 3), stride=(1, 1), padding=(1, 1))\n"
     ]
    }
   ],
   "source": [
    "conv5 = nn.Conv2d(256, 512, kernel_size=3, stride=1, padding=1)\n",
    "print(conv5)"
   ]
  },
  {
   "cell_type": "code",
   "execution_count": 8,
   "id": "db581923",
   "metadata": {},
   "outputs": [
    {
     "name": "stdout",
     "output_type": "stream",
     "text": [
      "MaxPool2d(kernel_size=2, stride=2, padding=0, dilation=1, ceil_mode=False)\n"
     ]
    }
   ],
   "source": [
    "pool1 = nn.MaxPool2d(2) # 간단히 선언하면 선언된 하나의 정수값을 통해서 kernel_size, stride가 결정되게 된다.\n",
    "print(pool1)"
   ]
  },
  {
   "cell_type": "code",
   "execution_count": 9,
   "id": "98562edc",
   "metadata": {},
   "outputs": [
    {
     "name": "stdout",
     "output_type": "stream",
     "text": [
      "MaxPool2d(kernel_size=2, stride=2, padding=1, dilation=1, ceil_mode=False)\n"
     ]
    }
   ],
   "source": [
    "pool2 = nn.MaxPool2d(kernel_size=2, stride=2, padding=1) # 간단히 선언하면 선언된 하나의 정수값을 통해서 kernel_size, stride가 결정되게 된다.\n",
    "print(pool2)"
   ]
  },
  {
   "cell_type": "code",
   "execution_count": 10,
   "id": "b6de3398",
   "metadata": {},
   "outputs": [
    {
     "name": "stdout",
     "output_type": "stream",
     "text": [
      "torch.Size([1, 32, 28, 28])\n"
     ]
    }
   ],
   "source": [
    "out = conv1(inputs) # 임의의 값이 conv레이어를 지나게 된 out\n",
    "print(out.shape)"
   ]
  },
  {
   "cell_type": "code",
   "execution_count": 11,
   "id": "94a426a8",
   "metadata": {},
   "outputs": [
    {
     "name": "stdout",
     "output_type": "stream",
     "text": [
      "torch.Size([1, 32, 14, 14])\n"
     ]
    }
   ],
   "source": [
    "out = pool1(out) # conv레이어에서 나올때 맥스풀링하게 되는 과정\n",
    "print(out.shape)"
   ]
  },
  {
   "cell_type": "code",
   "execution_count": 12,
   "id": "0f21b317",
   "metadata": {},
   "outputs": [
    {
     "name": "stdout",
     "output_type": "stream",
     "text": [
      "torch.Size([1, 64, 14, 14])\n"
     ]
    }
   ],
   "source": [
    "out = conv2(out) # 임의의 값이 conv레이어를 지나게 된 out\n",
    "print(out.shape)"
   ]
  },
  {
   "cell_type": "code",
   "execution_count": 13,
   "id": "f7f24a1c",
   "metadata": {},
   "outputs": [
    {
     "name": "stdout",
     "output_type": "stream",
     "text": [
      "torch.Size([1, 64, 7, 7])\n"
     ]
    }
   ],
   "source": [
    "out = pool1(out)\n",
    "print(out.shape) "
   ]
  },
  {
   "cell_type": "code",
   "execution_count": 14,
   "id": "ca876ec7",
   "metadata": {},
   "outputs": [
    {
     "name": "stdout",
     "output_type": "stream",
     "text": [
      "torch.Size([1, 128, 7, 7])\n"
     ]
    }
   ],
   "source": [
    "out = conv3(out) \n",
    "print(out.shape)"
   ]
  },
  {
   "cell_type": "code",
   "execution_count": 15,
   "id": "f9778123",
   "metadata": {},
   "outputs": [
    {
     "name": "stdout",
     "output_type": "stream",
     "text": [
      "torch.Size([1, 128, 4, 4])\n"
     ]
    }
   ],
   "source": [
    "out = pool2(out)\n",
    "print(out.shape) "
   ]
  },
  {
   "cell_type": "code",
   "execution_count": 16,
   "id": "97e9edc1",
   "metadata": {},
   "outputs": [
    {
     "name": "stdout",
     "output_type": "stream",
     "text": [
      "torch.Size([1, 256, 4, 4])\n"
     ]
    }
   ],
   "source": [
    "out = conv4(out) \n",
    "print(out.shape)"
   ]
  },
  {
   "cell_type": "code",
   "execution_count": 17,
   "id": "e3d57cb5",
   "metadata": {},
   "outputs": [
    {
     "name": "stdout",
     "output_type": "stream",
     "text": [
      "torch.Size([1, 256, 3, 3])\n"
     ]
    }
   ],
   "source": [
    "out = pool2(out)\n",
    "print(out.shape) "
   ]
  },
  {
   "cell_type": "code",
   "execution_count": 18,
   "id": "6cf004d7",
   "metadata": {},
   "outputs": [
    {
     "name": "stdout",
     "output_type": "stream",
     "text": [
      "torch.Size([1, 512, 3, 3])\n"
     ]
    }
   ],
   "source": [
    "out = conv5(out) \n",
    "print(out.shape)"
   ]
  },
  {
   "cell_type": "code",
   "execution_count": 19,
   "id": "a500498e",
   "metadata": {},
   "outputs": [
    {
     "name": "stdout",
     "output_type": "stream",
     "text": [
      "torch.Size([1, 512, 2, 2])\n"
     ]
    }
   ],
   "source": [
    "out = pool2(out)\n",
    "print(out.shape) "
   ]
  },
  {
   "cell_type": "code",
   "execution_count": 20,
   "id": "68ed95de",
   "metadata": {},
   "outputs": [
    {
     "name": "stdout",
     "output_type": "stream",
     "text": [
      "torch.Size([1, 2048])\n"
     ]
    }
   ],
   "source": [
    "out = out.view(out.size(0), -1)\n",
    "print(out.shape)"
   ]
  },
  {
   "cell_type": "code",
   "execution_count": 21,
   "id": "d3efc1ce",
   "metadata": {},
   "outputs": [
    {
     "name": "stdout",
     "output_type": "stream",
     "text": [
      "torch.Size([1, 2048])\n"
     ]
    }
   ],
   "source": [
    "fc1 = nn.Linear(2*2*512, 2048)# 2048개를 input으로 받고 2048개를 output으로 \n",
    "out = fc1(out)\n",
    "print(out.shape)"
   ]
  },
  {
   "cell_type": "code",
   "execution_count": 22,
   "id": "63794cb0",
   "metadata": {},
   "outputs": [
    {
     "name": "stdout",
     "output_type": "stream",
     "text": [
      "torch.Size([1, 10])\n"
     ]
    }
   ],
   "source": [
    "fc2 = nn.Linear(2048, 10)\n",
    "out = fc2(out)\n",
    "print(out.shape)"
   ]
  },
  {
   "cell_type": "code",
   "execution_count": null,
   "id": "c94c9dc5",
   "metadata": {},
   "outputs": [],
   "source": []
  }
 ],
 "metadata": {
  "kernelspec": {
   "display_name": "Python 3 (ipykernel)",
   "language": "python",
   "name": "python3"
  },
  "language_info": {
   "codemirror_mode": {
    "name": "ipython",
    "version": 3
   },
   "file_extension": ".py",
   "mimetype": "text/x-python",
   "name": "python",
   "nbconvert_exporter": "python",
   "pygments_lexer": "ipython3",
   "version": "3.8.12"
  }
 },
 "nbformat": 4,
 "nbformat_minor": 5
}
