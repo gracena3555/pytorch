{
 "cells": [
  {
   "cell_type": "code",
   "execution_count": null,
   "id": "d260573a",
   "metadata": {},
   "outputs": [],
   "source": [
    "\"\"\"\n",
    "ResNet-101 모델 시각화\n",
    "\"\"\""
   ]
  },
  {
   "cell_type": "code",
   "execution_count": 4,
   "id": "a0155382",
   "metadata": {},
   "outputs": [],
   "source": [
    "import torch\n",
    "import torchvision\n",
    "import torch.onnx\n",
    "\n",
    "model = torchvision.models.resnet101(pretrained=False)\n",
    "params = model.state_dict()\n",
    "dummy_data = torch.empty(1, 3, 224, 224, dtype=torch.float32)\n",
    "torch.onnx.export(model, dummy_data, \"output.onnx\")"
   ]
  },
  {
   "cell_type": "code",
   "execution_count": null,
   "id": "60a8ce5e",
   "metadata": {},
   "outputs": [],
   "source": []
  }
 ],
 "metadata": {
  "kernelspec": {
   "display_name": "Python 3 (ipykernel)",
   "language": "python",
   "name": "python3"
  },
  "language_info": {
   "codemirror_mode": {
    "name": "ipython",
    "version": 3
   },
   "file_extension": ".py",
   "mimetype": "text/x-python",
   "name": "python",
   "nbconvert_exporter": "python",
   "pygments_lexer": "ipython3",
   "version": "3.8.12"
  }
 },
 "nbformat": 4,
 "nbformat_minor": 5
}
